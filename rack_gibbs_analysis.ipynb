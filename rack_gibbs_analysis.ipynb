{
  "cells": [
    {
      "cell_type": "markdown",
      "metadata": {
        "id": "view-in-github",
        "colab_type": "text"
      },
      "source": [
        "<a href=\"https://colab.research.google.com/github/alaguilarunal/gibb_sampler/blob/main/rack_gibbs_analysis.ipynb\" target=\"_parent\"><img src=\"https://colab.research.google.com/assets/colab-badge.svg\" alt=\"Open In Colab\"/></a>"
      ]
    },
    {
      "cell_type": "code",
      "execution_count": null,
      "metadata": {
        "id": "IeW3HQMIWjeO"
      },
      "outputs": [],
      "source": [
        "import numpy as np\n",
        "import os as os\n",
        "import matplotlib.pyplot as plt\n",
        "from matplotlib.animation import FuncAnimation\n",
        "import seaborn as sns\n",
        "import scipy.sparse as sp\n",
        "from random import choice, randint\n",
        "from collections.abc import Callable\n",
        "\n",
        "from ipywidgets import interact, widgets"
      ]
    },
    {
      "cell_type": "code",
      "execution_count": null,
      "metadata": {
        "id": "_0aGpJAKNRzi"
      },
      "outputs": [],
      "source": [
        "class GibbsNode:\n",
        "    __slots__ = ('val', 'neighbors', 'neighbors_val_count')\n",
        "\n",
        "    def __init__(self, val: int, val_cases: int) -> None:\n",
        "        self.val = val\n",
        "        self.neighbors = []\n",
        "        self.neighbors_val_count = [0] * val_cases\n",
        "\n",
        "    def inteconnect_neighbor(self, neighbor: 'GibbsNode') -> None:\n",
        "        self.neighbors.append(neighbor)\n",
        "        neighbor.neighbors.append(self)\n",
        "        self.add_val_count(neighbor.val)\n",
        "        neighbor.add_val_count(self.val)\n",
        "\n",
        "    def add_val_count(self, val: int) -> None:\n",
        "        self.neighbors_val_count[val] += 1\n",
        "\n",
        "    def subtract_val_count(self, val: int) -> None:\n",
        "        self.neighbors_val_count[val] -= 1\n",
        "\n",
        "    def update_val(self, upd_func: Callable[[list[int]], int]) -> None:\n",
        "        old_val = self.val\n",
        "        neighbors_val_count = self.neighbors_val_count\n",
        "        new_val = upd_func(neighbors_val_count)\n",
        "        for neighbor in self.neighbors:\n",
        "            neighbor.subtract_val_count(old_val)\n",
        "            neighbor.add_val_count(new_val)\n",
        "        self.val = new_val\n"
      ]
    },
    {
      "cell_type": "code",
      "execution_count": null,
      "metadata": {
        "id": "gQrMLqfweYd_"
      },
      "outputs": [],
      "source": [
        "# Basic option, very fast representation of current state of the chain\n",
        "# use it for histogram\n",
        "class GibbsRack:\n",
        "    __slots__ = ('gibbs_nodes', 'upd_func', 'sqr_size')\n",
        "\n",
        "    def __init__(self, sqr_size: int, val_cases: int, upd_func: Callable[[list[int]], int]) -> None:\n",
        "        self.sqr_size = sqr_size\n",
        "        self.gibbs_nodes = [GibbsNode(0, val_cases) for _ in range(sqr_size * sqr_size)]\n",
        "        self.neighbors_connect()\n",
        "        self.upd_func = upd_func\n",
        "\n",
        "    def neighbors_connect(self) -> None:\n",
        "        sqr_size = self.sqr_size\n",
        "        gibbs_nodes = self.gibbs_nodes\n",
        "        len_nodes = len(gibbs_nodes)\n",
        "\n",
        "        #column interconnect\n",
        "        for i in range(0, len_nodes - sqr_size):\n",
        "            gibbs_nodes[i].inteconnect_neighbor(gibbs_nodes[i + sqr_size])\n",
        "\n",
        "        #row interconnect\n",
        "        for i in range(0, len_nodes, sqr_size):\n",
        "            for j in range (sqr_size - 1):\n",
        "                gibbs_nodes[i + j].inteconnect_neighbor(gibbs_nodes[i + j + 1])\n",
        "\n",
        "    def markov_step(self) -> None:\n",
        "        a = choice(self.gibbs_nodes)\n",
        "        a.update_val(self.upd_func)\n",
        "\n",
        "    def matrix_repr(self) -> np.ndarray:\n",
        "        list_repr = [node.val for node in self.gibbs_nodes]\n",
        "        return np.reshape(list_repr, (self.sqr_size, self.sqr_size))\n",
        "\n",
        "    def get_col_map(self):\n",
        "        colors = len(self.gibbs_nodes[0].neighbors_val_count)\n",
        "        if colors == 2:\n",
        "            return plt.colormaps['binary']\n",
        "        return plt.colormaps['tab20'].resampled(colors)\n",
        "\n",
        "# Fastest class when need to memoize a big number of steps of the chain\n",
        "# Breaks when have too big chains\n",
        "class MemoGibbsRack(GibbsRack):\n",
        "    __slots__ = ('memoized_steps', 'memoized_state')\n",
        "\n",
        "    def __init__(self, sqr_size: int, val_cases: int, upd_func: Callable[[list[int]], int]) -> None:\n",
        "        super().__init__(sqr_size, val_cases, upd_func)\n",
        "        self.memoized_steps = []\n",
        "        self.memoized_state = [np.zeros((sqr_size, sqr_size), dtype=int)]\n",
        "\n",
        "    def markov_step(self) -> None:\n",
        "        i, j = np.random.randint(0, self.sqr_size, size=2)\n",
        "        node = self.gibbs_nodes[i * self.sqr_size + j]\n",
        "        node.update_val(self.upd_func)\n",
        "        val = node.val\n",
        "        self.memoized_steps.append((val, i, j))\n",
        "\n",
        "    def memo_matrix_repr(self, n: int) -> np.ndarray:\n",
        "        while len(self.memoized_state) - 1 < n:\n",
        "            val, i, j = self.memoized_steps.pop(0)\n",
        "            new_state = np.copy(self.memoized_state[-1])\n",
        "            new_state[i, j] = val\n",
        "            self.memoized_state.append(new_state)\n",
        "        return self.memoized_state[-1]\n",
        "\n",
        "# Best option when you need to memoize steps in a chain with very big representations\n",
        "class SparseGibbsRack(GibbsRack):\n",
        "    __slots__ = ('memoized_delta')\n",
        "\n",
        "    def __init__(self, sqr_size: int, val_cases: int, upd_func: Callable[[list[int]], int]) -> None:\n",
        "        super().__init__(sqr_size, val_cases, upd_func)\n",
        "        self.memoized_delta = [sp.coo_matrix((sqr_size, sqr_size), dtype=int).tocsr()]\n",
        "\n",
        "    def markov_step(self) -> None:\n",
        "        i, j = np.random.randint(0, self.sqr_size, size=2)\n",
        "        node = self.gibbs_nodes[i * self.sqr_size + j]\n",
        "        old_val = node.val\n",
        "        node.update_val(self.upd_func)\n",
        "        new_val = node.val\n",
        "        delta = new_val - old_val\n",
        "        delta_matrix = sp.coo_matrix(([delta], ([i], [j])), shape=(self.sqr_size, self.sqr_size)).tocsr()\n",
        "        self.memoized_delta.append(delta_matrix)\n",
        "\n",
        "    def sparse_matrix_repr(self, n: int) -> np.ndarray:\n",
        "        sum_matrix = self.memoized_delta[0]\n",
        "        for i in range(0, n + 1):\n",
        "            sum_matrix = sum_matrix + self.memoized_delta[i]\n",
        "        return sum_matrix.toarray()"
      ]
    },
    {
      "cell_type": "code",
      "execution_count": null,
      "metadata": {
        "id": "0rf52Y8r290i"
      },
      "outputs": [],
      "source": [
        "def hardcore_upd(neighbors_val_count: list[int]) -> int:\n",
        "    tails = randint(0, 1)\n",
        "    if tails:\n",
        "        return not neighbors_val_count[1]\n",
        "    return 0\n",
        "\n",
        "def qcoloring_upd(neighbors_val_count: list[int]) -> int:\n",
        "    possible_colors = [i for i, x in enumerate(neighbors_val_count) if not x]\n",
        "    return choice(possible_colors)\n"
      ]
    },
    {
      "cell_type": "code",
      "execution_count": null,
      "metadata": {
        "id": "duIjk1uWOxSj"
      },
      "outputs": [],
      "source": [
        "def rack_repr(data: np.ndarray, rack: GibbsRack,time):\n",
        "    plot = sns.heatmap(data, linewidths=1, linecolor='black', square=True, cmap=rack.get_col_map(), cbar=False)\n",
        "    plot.set(xticks=[], yticks=[], xlabel='', ylabel='',title=f\"Configuración para el tiempo {time}\")\n",
        "    #plt.show()\n",
        "    return plot\n",
        "\n",
        "def rack_vid(name:str, data_list: list[np.ndarray], rack:GibbsRack) -> None:\n",
        "    if os.path.exists(\"./temp_img\") == False:\n",
        "      os.mkdir(\"./temp_img\")\n",
        "    for i in range(len(data_list)):\n",
        "        data = data_list[i]\n",
        "        plt.imsave(f'./temp_img/img{i}.png', data, cmap=rack.get_col_map())\n",
        "    os.system(f'ffmpeg -framerate 20 -i ./temp_img/img%d.png -vcodec mpeg4 -y {name}.mp4')\n"
      ]
    },
    {
      "cell_type": "markdown",
      "metadata": {
        "id": "rjbo5qBhbxm2"
      },
      "source": [
        "# **Primera parte:** algoritmo Gibss sampler\n",
        "\n",
        "Notas:\n",
        "\n",
        "\n",
        "\n",
        "1.   Al finalizar la simulación se genera un video de muy baja resolución que permite visualizar las configuraciones en el transcurso del tiempo (por defecto no se genera a menos que se establezca la variable **save_video=True**). El objetivo de generar el video a una calidad muy pobre, es el de garantizar tiempos relativamente cortos para la creación del video cuando se configura un tiempo de simulación muy largo.\n",
        "\n",
        "2. El video se guarda en formato MP4 en la ruta predefinida para el proyecto en google colab.\n",
        "\n",
        "3.   Para la visualización de las configuraciones generadas durante la simulación, siga las instrucciones de la celda abajo del histograma generado\n",
        "\n"
      ]
    },
    {
      "cell_type": "code",
      "execution_count": null,
      "metadata": {
        "colab": {
          "base_uri": "https://localhost:8080/",
          "height": 885
        },
        "id": "XhUhQDD4YC_0",
        "outputId": "03debbb5-d045-4e95-d1f4-8513a3cea395"
      },
      "outputs": [
        {
          "output_type": "display_data",
          "data": {
            "text/plain": [
              "<Figure size 640x480 with 1 Axes>"
            ],
            "image/png": "[encoded data removed]"
          },
          "metadata": {}
        },
        {
          "output_type": "display_data",
          "data": {
            "text/plain": [
              "<Figure size 640x480 with 1 Axes>"
            ],
            "image/png": "[encoded data removed]"
          },
          "metadata": {}
        }
      ],
      "source": [
        "rack_size=15 # n=rack_size for nxn rack\n",
        "n_time=100000 #simulation time\n",
        "particles={}\n",
        "save_video=False\n",
        "\n",
        "hardcore_sim = GibbsRack(rack_size, 2, hardcore_upd)\n",
        "x_i = hardcore_sim.matrix_repr()\n",
        "x = [x_i]\n",
        "for i in range(int(n_time)):\n",
        "    hardcore_sim.markov_step()\n",
        "    x_i = hardcore_sim.matrix_repr()\n",
        "    n_particles = np.sum(x_i)\n",
        "    if n_particles in particles:\n",
        "      particles[n_particles] = particles[n_particles] + 1\n",
        "    else:\n",
        "      particles[n_particles] = 1\n",
        "\n",
        "    x.append(x_i)\n",
        "n_p=particles.keys()\n",
        "freq=particles.values()\n",
        "\n",
        "plt.bar(n_p,freq)\n",
        "plt.title(\"Número de partículas en configuraciones factibles vs frecuencia de aparición\")\n",
        "plt.xlabel(\"Número de particulas\")\n",
        "plt.ylabel(\"Frecuencia\")\n",
        "plt.show()\n",
        "\n",
        "rack_repr(x[-1],hardcore_sim,len(x)-1)\n",
        "plt.show()\n",
        "#Creates a very poor quality video of n_i times of simulation\n",
        "if save_video:\n",
        "  rack_vid(\"hard\", x, hardcore_sim)\n",
        "\n"
      ]
    },
    {
      "cell_type": "markdown",
      "metadata": {
        "id": "cEZTQBU7C7AA"
      },
      "source": [
        "Una vez finalizada la simulacón, ejecute la siguiente celda para visualizar el slider que le permitirá mostrar las configuraciones en el instante t seleccionado."
      ]
    },
    {
      "cell_type": "code",
      "execution_count": null,
      "metadata": {
        "colab": {
          "base_uri": "https://localhost:8080/",
          "height": 477,
          "referenced_widgets": [
            "dfd55d27ad6f4e05bb8d83346d5f36ff",
            "11683851bef6456c8d209f476e3ae51e",
            "5c3c97d3d12b49e3a376b2bed9c44ecd",
            "bc0eacb9c6874ee3a380633250789003",
            "bbf1b00bc1294075b8b12d43139af8a4",
            "6aeba0b791a24556877a2b784c120190",
            "b8ffe5f896564804adca36a93f3880dd"
          ]
        },
        "id": "qU-CGFYNAkvA",
        "outputId": "923de775-8ecb-421b-92f5-29f5cb2f9948"
      },
      "outputs": [
        {
          "output_type": "display_data",
          "data": {
            "text/plain": [
              "interactive(children=(IntSlider(value=0, continuous_update=False, description='index', max=100000), Output()),…"
            ],
            "application/vnd.jupyter.widget-view+json": {
              "version_major": 2,
              "version_minor": 0,
              "model_id": "dfd55d27ad6f4e05bb8d83346d5f36ff"
            }
          },
          "metadata": {}
        },
        {
          "output_type": "execute_result",
          "data": {
            "text/plain": [
              "<function __main__.<lambda>(index)>"
            ]
          },
          "metadata": {},
          "execution_count": 12
        }
      ],
      "source": [
        "def show_hard_core(index):\n",
        "    plot2 = sns.heatmap(x[index], linewidths=1, linecolor='black', square=True, cmap=hardcore_sim.get_col_map(), cbar=False)\n",
        "    plot2.set(xticks=[], yticks=[], xlabel='', ylabel='',title=f\"Configuracion para el tiempo {index}\")\n",
        "    plt.show()\n",
        "\n",
        "interact(lambda index:show_hard_core(index), index=widgets.IntSlider(min=0, max=len(x)-1, continuous_update=False))\n"
      ]
    },
    {
      "cell_type": "markdown",
      "metadata": {
        "id": "m1k2I1B2JbPl"
      },
      "source": [
        "# **Segunda parte:** q-coloraciones\n",
        "\n",
        "Notas:\n",
        "\n",
        "\n",
        "\n",
        "1.   Al finalizar la simulación se genera un video con el cambio en la rejilla durante el tiempo. En este caso, que si es necesario la visulización de los colores, la construcción del video es bastante demorada. Como referencia, para un simulación de **500 iteraciones** el renderizado del video puede tomar 1.8 minutos.\n",
        "\n",
        "2. El video se guarda en formato MP4 (animacion.mp4) en la ruta predefinida para el proyecto en google colab.\n",
        "\n",
        "3. para tiempos de simulación grandes, establezca la variable **save_video=False**, de lo contrario, el tiempo de ejecución dependerá del tiempo de procesamiento del video.\n",
        "\n",
        "3.   Para la visualización de las configuraciones generadas durante la simulación, siga las instrucciones de la celda abajo del histograma generado"
      ]
    },
    {
      "cell_type": "code",
      "execution_count": null,
      "metadata": {
        "colab": {
          "base_uri": "https://localhost:8080/",
          "height": 429
        },
        "id": "z6IMRF5dad7R",
        "outputId": "2291e93b-0508-448c-aad4-de954e1a4695"
      },
      "outputs": [
        {
          "output_type": "display_data",
          "data": {
            "text/plain": [
              "<Figure size 640x480 with 1 Axes>"
            ],
            "image/png": "[encoded data removed]"
          },
          "metadata": {}
        }
      ],
      "source": [
        "rack_size=20 # n=rack_size for nxn rack\n",
        "n_time=500 #simulation time\n",
        "n_colors=5\n",
        "\n",
        "save_video=False\n",
        "colors={}\n",
        "\n",
        "qcoloring_sim = GibbsRack(rack_size, n_colors, qcoloring_upd)\n",
        "y_i=qcoloring_sim.matrix_repr()\n",
        "y = [y_i]\n",
        "\n",
        "for _ in range(n_time):\n",
        "    qcoloring_sim.markov_step()\n",
        "    y_i=qcoloring_sim.matrix_repr()\n",
        "    #print(f\"-----\\n\",np.unique(y_i))\n",
        "    for color in np.unique(y_i):\n",
        "      if color in colors:\n",
        "        colors[color]=colors[color]+1\n",
        "      else:\n",
        "        colors[color]=1\n",
        "    y.append(y_i)\n",
        "\n",
        "#y = y[:1000]\n",
        "\n",
        "#---histograma\n",
        "\"\"\"fig = plt.figure()\n",
        "ax =  plt.axes()\n",
        "n_c=colors.keys()\n",
        "freq=colors.values()\n",
        "\n",
        "plt.bar(n_c,freq)\n",
        "plt.title(\"Número de partículas en configuraciones factibles vs frecuencia de aparición\")\n",
        "plt.xlabel(\"Colores\")\n",
        "plt.ylabel(\"Frecuencia\")\n",
        "plt.show()\n",
        "plt.close()\"\"\"\n",
        "\n",
        "def update(frame):\n",
        "    ax.clear()\n",
        "    plot = sns.heatmap(y[frame], ax=ax, linewidths=1, linecolor='black', square=True, cmap=qcoloring_sim.get_col_map(), cbar=False)\n",
        "    return plot\n",
        "\n",
        "def show_rank_qcolor(index):\n",
        "    plt.clf()\n",
        "    plot2 = sns.heatmap(y[index], linewidths=1, linecolor='black', square=True, cmap=qcoloring_sim.get_col_map(), cbar=False)\n",
        "    plot2.set(xticks=[], yticks=[], xlabel='', ylabel='',title=f\"q - coloración para el tiempo {len(y)-1 if index==-1 else index}\")\n",
        "    plt.show()\n",
        "\n",
        "if save_video:\n",
        "  fig = plt.figure()\n",
        "  ax =  plt.axes()\n",
        "  ani = FuncAnimation(fig, update, frames=len(y), interval=100)\n",
        "  ani.save('animacion.mp4', writer='ffmpeg')\n",
        "\n",
        "show_rank_qcolor(-1)\n"
      ]
    },
    {
      "cell_type": "markdown",
      "metadata": {
        "id": "6knZHjuTy4XZ"
      },
      "source": [
        "Una vez finalizada la simulacón, ejecute la siguiente celda para visualizar el slider que le permitirá mostrar las configuraciones en el instante t seleccionado."
      ]
    },
    {
      "cell_type": "code",
      "execution_count": null,
      "metadata": {
        "colab": {
          "base_uri": "https://localhost:8080/",
          "height": 478,
          "referenced_widgets": [
            "32d3f1ed7a9d49678325b8af1bb50cdf",
            "78d9101f091b40dc8a0eacce6f57a8eb",
            "996a6b129cf7490b90cb84afda2644db",
            "55d4306a5a9f447ca315e87409453805",
            "6a7157de6b644575bcd1a5f63dfa3f19",
            "6c052836272947e88216481316e4939c",
            "d5f9e9fc24304100b5469905827fdd61"
          ]
        },
        "id": "xUQ5GR0NqXZy",
        "outputId": "6e17dbab-3b34-49e4-df8b-b2cbd5bb06fa"
      },
      "outputs": [
        {
          "output_type": "display_data",
          "data": {
            "text/plain": [
              "interactive(children=(IntSlider(value=0, continuous_update=False, description='index', max=500), Output()), _d…"
            ],
            "application/vnd.jupyter.widget-view+json": {
              "version_major": 2,
              "version_minor": 0,
              "model_id": "32d3f1ed7a9d49678325b8af1bb50cdf"
            }
          },
          "metadata": {}
        },
        {
          "output_type": "execute_result",
          "data": {
            "text/plain": [
              "<function __main__.<lambda>(index)>"
            ]
          },
          "metadata": {},
          "execution_count": 21
        }
      ],
      "source": [
        "interact(lambda index:show_rank_qcolor(index),index=widgets.IntSlider(min=0, max=len(y)-1, continuous_update=False))"
      ]
    },
    {
      "cell_type": "markdown",
      "metadata": {
        "id": "J6r7f2uFF5Uu"
      },
      "source": [
        "# **Análisis**\n",
        "\n",
        "\n",
        "Para el algoritmo Gibbs Sampler, los parámetros principales que podrían variarse son:\n",
        "\n",
        "1. **Tamaño de la Rejilla (o cantidad de variables):** Este parámetro afectará la complejidad del problema y la dimensionalidad del espacio de búsqueda. Un aumento en el tamaño de la rejilla podría llevar a una distribución más dispersa de las configuraciones, y potencialmente a un tiempo de convergencia más largo.\n",
        "\n",
        "2. **Número de Iteraciones:** El número de iteraciones del algoritmo puede influir en la calidad de las muestras generadas y en la convergencia del algoritmo hacia la distribución estacionaria. Un mayor número de iteraciones tiende a mejorar la convergencia, pero también puede aumentar el tiempo de ejecución.\n",
        "\n",
        "3. **Número de Colores (en el caso de q-coloraciones):** En el contexto de q-coloraciones, el número de colores disponibles afectará la distribución de las configuraciones resultantes. Un mayor número de colores puede permitir una mayor diversidad en las configuraciones, mientras que un número menor de colores podría limitar las opciones y llevar a configuraciones más homogéneas.\n",
        "\n",
        "4. **Tipo de Distribución Inicial:** La distribución inicial de las variables también puede influir en la distribución final. Si la distribución inicial es muy sesgada, podría afectar la velocidad de convergencia y la exploración del espacio de búsqueda.\n",
        "\n",
        "Al variar estos parámetros, es importante considerar cómo afectarán la convergencia del algoritmo y la exploración del espacio de configuraciones. En general, la distribución esperada será aquella que se aproxime a la distribución estacionaria del sistema, la cual depende de la interacción entre los parámetros y la naturaleza del problema abordado.\n",
        "\n",
        "Algo adicional que podemos obersvar en el primer histograma, es que este se asemeja a a una distrución normal, esto puede deberse a algunos factores:\n",
        "\n",
        "- **Convergencia a una distribución normal:** Dadas las reglas de Hardcore y q-coloreo cuando han convergido adecuadamente hacia la distribución estacionaria puede que esta distribución sea normal o tenga características similares a una distribución normal.\n",
        "\n",
        "- **Central Limit Theorem (Teorema del Límite Central):** El Teorema del Límite Central establece que, bajo ciertas condiciones, la suma de un gran número de variables aleatorias independientes e idénticamente distribuidas (iid) tiende a una distribución normal, independientemente de la distribución original de las variables. Esto significa que incluso si las muestras generadas por el algoritmo de Gibbs Sampler no siguen una distribución normal, la suma de un gran número de estas muestras podría aproximarse a una distribución normal.\n",
        "\n",
        "En el segundo histograma podemos observar que la distribución es uniforme, pues cada uno de los colores tiene aproximadamente la misma frecuencia de aparicion independientemente de la cantidad de colores y el tamaño de la rejilla.\n",
        "\n",
        "\n",
        "\n"
      ]
    },
    {
      "cell_type": "code",
      "execution_count": null,
      "metadata": {
        "id": "AFyKi80nkR-g"
      },
      "outputs": [],
      "source": []
    }
  ],
  "metadata": {
    "colab": {
      "provenance": [],
      "include_colab_link": true
    },
    "kernelspec": {
      "display_name": "Python 3",
      "name": "python3"
    },
    "language_info": {
      "name": "python"
    },
    "widgets": {
      "application/vnd.jupyter.widget-state+json": {
        "dfd55d27ad6f4e05bb8d83346d5f36ff": {
          "model_module": "@jupyter-widgets/controls",
          "model_name": "VBoxModel",
          "model_module_version": "1.5.0",
          "state": {
            "_dom_classes": [
              "widget-interact"
            ],
            "_model_module": "@jupyter-widgets/controls",
            "_model_module_version": "1.5.0",
            "_model_name": "VBoxModel",
            "_view_count": null,
            "_view_module": "@jupyter-widgets/controls",
            "_view_module_version": "1.5.0",
            "_view_name": "VBoxView",
            "box_style": "",
            "children": [
              "IPY_MODEL_11683851bef6456c8d209f476e3ae51e",
              "IPY_MODEL_5c3c97d3d12b49e3a376b2bed9c44ecd"
            ],
            "layout": "IPY_MODEL_bc0eacb9c6874ee3a380633250789003"
          }
        },
        "11683851bef6456c8d209f476e3ae51e": {
          "model_module": "@jupyter-widgets/controls",
          "model_name": "IntSliderModel",
          "model_module_version": "1.5.0",
          "state": {
            "_dom_classes": [],
            "_model_module": "@jupyter-widgets/controls",
            "_model_module_version": "1.5.0",
            "_model_name": "IntSliderModel",
            "_view_count": null,
            "_view_module": "@jupyter-widgets/controls",
            "_view_module_version": "1.5.0",
            "_view_name": "IntSliderView",
            "continuous_update": false,
            "description": "index",
            "description_tooltip": null,
            "disabled": false,
            "layout": "IPY_MODEL_bbf1b00bc1294075b8b12d43139af8a4",
            "max": 100000,
            "min": 0,
            "orientation": "horizontal",
            "readout": true,
            "readout_format": "d",
            "step": 1,
            "style": "IPY_MODEL_6aeba0b791a24556877a2b784c120190",
            "value": 45544
          }
        },
        "5c3c97d3d12b49e3a376b2bed9c44ecd": {
          "model_module": "@jupyter-widgets/output",
          "model_name": "OutputModel",
          "model_module_version": "1.0.0",
          "state": {
            "_dom_classes": [],
            "_model_module": "@jupyter-widgets/output",
            "_model_module_version": "1.0.0",
            "_model_name": "OutputModel",
            "_view_count": null,
            "_view_module": "@jupyter-widgets/output",
            "_view_module_version": "1.0.0",
            "_view_name": "OutputView",
            "layout": "IPY_MODEL_b8ffe5f896564804adca36a93f3880dd",
            "msg_id": "",
            "outputs": [
              {
                "output_type": "display_data",
                "data": {
                  "text/plain": "<Figure size 640x480 with 1 Axes>",
                  "image/png": "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\n"
                },
                "metadata": {}
              }
            ]
          }
        },
        "bc0eacb9c6874ee3a380633250789003": {
          "model_module": "@jupyter-widgets/base",
          "model_name": "LayoutModel",
          "model_module_version": "1.2.0",
          "state": {
            "_model_module": "@jupyter-widgets/base",
            "_model_module_version": "1.2.0",
            "_model_name": "LayoutModel",
            "_view_count": null,
            "_view_module": "@jupyter-widgets/base",
            "_view_module_version": "1.2.0",
            "_view_name": "LayoutView",
            "align_content": null,
            "align_items": null,
            "align_self": null,
            "border": null,
            "bottom": null,
            "display": null,
            "flex": null,
            "flex_flow": null,
            "grid_area": null,
            "grid_auto_columns": null,
            "grid_auto_flow": null,
            "grid_auto_rows": null,
            "grid_column": null,
            "grid_gap": null,
            "grid_row": null,
            "grid_template_areas": null,
            "grid_template_columns": null,
            "grid_template_rows": null,
            "height": null,
            "justify_content": null,
            "justify_items": null,
            "left": null,
            "margin": null,
            "max_height": null,
            "max_width": null,
            "min_height": null,
            "min_width": null,
            "object_fit": null,
            "object_position": null,
            "order": null,
            "overflow": null,
            "overflow_x": null,
            "overflow_y": null,
            "padding": null,
            "right": null,
            "top": null,
            "visibility": null,
            "width": null
          }
        },
        "bbf1b00bc1294075b8b12d43139af8a4": {
          "model_module": "@jupyter-widgets/base",
          "model_name": "LayoutModel",
          "model_module_version": "1.2.0",
          "state": {
            "_model_module": "@jupyter-widgets/base",
            "_model_module_version": "1.2.0",
            "_model_name": "LayoutModel",
            "_view_count": null,
            "_view_module": "@jupyter-widgets/base",
            "_view_module_version": "1.2.0",
            "_view_name": "LayoutView",
            "align_content": null,
            "align_items": null,
            "align_self": null,
            "border": null,
            "bottom": null,
            "display": null,
            "flex": null,
            "flex_flow": null,
            "grid_area": null,
            "grid_auto_columns": null,
            "grid_auto_flow": null,
            "grid_auto_rows": null,
            "grid_column": null,
            "grid_gap": null,
            "grid_row": null,
            "grid_template_areas": null,
            "grid_template_columns": null,
            "grid_template_rows": null,
            "height": null,
            "justify_content": null,
            "justify_items": null,
            "left": null,
            "margin": null,
            "max_height": null,
            "max_width": null,
            "min_height": null,
            "min_width": null,
            "object_fit": null,
            "object_position": null,
            "order": null,
            "overflow": null,
            "overflow_x": null,
            "overflow_y": null,
            "padding": null,
            "right": null,
            "top": null,
            "visibility": null,
            "width": null
          }
        },
        "6aeba0b791a24556877a2b784c120190": {
          "model_module": "@jupyter-widgets/controls",
          "model_name": "SliderStyleModel",
          "model_module_version": "1.5.0",
          "state": {
            "_model_module": "@jupyter-widgets/controls",
            "_model_module_version": "1.5.0",
            "_model_name": "SliderStyleModel",
            "_view_count": null,
            "_view_module": "@jupyter-widgets/base",
            "_view_module_version": "1.2.0",
            "_view_name": "StyleView",
            "description_width": "",
            "handle_color": null
          }
        },
        "b8ffe5f896564804adca36a93f3880dd": {
          "model_module": "@jupyter-widgets/base",
          "model_name": "LayoutModel",
          "model_module_version": "1.2.0",
          "state": {
            "_model_module": "@jupyter-widgets/base",
            "_model_module_version": "1.2.0",
            "_model_name": "LayoutModel",
            "_view_count": null,
            "_view_module": "@jupyter-widgets/base",
            "_view_module_version": "1.2.0",
            "_view_name": "LayoutView",
            "align_content": null,
            "align_items": null,
            "align_self": null,
            "border": null,
            "bottom": null,
            "display": null,
            "flex": null,
            "flex_flow": null,
            "grid_area": null,
            "grid_auto_columns": null,
            "grid_auto_flow": null,
            "grid_auto_rows": null,
            "grid_column": null,
            "grid_gap": null,
            "grid_row": null,
            "grid_template_areas": null,
            "grid_template_columns": null,
            "grid_template_rows": null,
            "height": null,
            "justify_content": null,
            "justify_items": null,
            "left": null,
            "margin": null,
            "max_height": null,
            "max_width": null,
            "min_height": null,
            "min_width": null,
            "object_fit": null,
            "object_position": null,
            "order": null,
            "overflow": null,
            "overflow_x": null,
            "overflow_y": null,
            "padding": null,
            "right": null,
            "top": null,
            "visibility": null,
            "width": null
          }
        },
        "32d3f1ed7a9d49678325b8af1bb50cdf": {
          "model_module": "@jupyter-widgets/controls",
          "model_name": "VBoxModel",
          "model_module_version": "1.5.0",
          "state": {
            "_dom_classes": [
              "widget-interact"
            ],
            "_model_module": "@jupyter-widgets/controls",
            "_model_module_version": "1.5.0",
            "_model_name": "VBoxModel",
            "_view_count": null,
            "_view_module": "@jupyter-widgets/controls",
            "_view_module_version": "1.5.0",
            "_view_name": "VBoxView",
            "box_style": "",
            "children": [
              "IPY_MODEL_78d9101f091b40dc8a0eacce6f57a8eb",
              "IPY_MODEL_996a6b129cf7490b90cb84afda2644db"
            ],
            "layout": "IPY_MODEL_55d4306a5a9f447ca315e87409453805"
          }
        },
        "78d9101f091b40dc8a0eacce6f57a8eb": {
          "model_module": "@jupyter-widgets/controls",
          "model_name": "IntSliderModel",
          "model_module_version": "1.5.0",
          "state": {
            "_dom_classes": [],
            "_model_module": "@jupyter-widgets/controls",
            "_model_module_version": "1.5.0",
            "_model_name": "IntSliderModel",
            "_view_count": null,
            "_view_module": "@jupyter-widgets/controls",
            "_view_module_version": "1.5.0",
            "_view_name": "IntSliderView",
            "continuous_update": false,
            "description": "index",
            "description_tooltip": null,
            "disabled": false,
            "layout": "IPY_MODEL_6a7157de6b644575bcd1a5f63dfa3f19",
            "max": 500,
            "min": 0,
            "orientation": "horizontal",
            "readout": true,
            "readout_format": "d",
            "step": 1,
            "style": "IPY_MODEL_6c052836272947e88216481316e4939c",
            "value": 0
          }
        },
        "996a6b129cf7490b90cb84afda2644db": {
          "model_module": "@jupyter-widgets/output",
          "model_name": "OutputModel",
          "model_module_version": "1.0.0",
          "state": {
            "_dom_classes": [],
            "_model_module": "@jupyter-widgets/output",
            "_model_module_version": "1.0.0",
            "_model_name": "OutputModel",
            "_view_count": null,
            "_view_module": "@jupyter-widgets/output",
            "_view_module_version": "1.0.0",
            "_view_name": "OutputView",
            "layout": "IPY_MODEL_d5f9e9fc24304100b5469905827fdd61",
            "msg_id": "",
            "outputs": [
              {
                "output_type": "display_data",
                "data": {
                  "text/plain": "<Figure size 640x480 with 1 Axes>",
                  "image/png": "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\n"
                },
                "metadata": {}
              }
            ]
          }
        },
        "55d4306a5a9f447ca315e87409453805": {
          "model_module": "@jupyter-widgets/base",
          "model_name": "LayoutModel",
          "model_module_version": "1.2.0",
          "state": {
            "_model_module": "@jupyter-widgets/base",
            "_model_module_version": "1.2.0",
            "_model_name": "LayoutModel",
            "_view_count": null,
            "_view_module": "@jupyter-widgets/base",
            "_view_module_version": "1.2.0",
            "_view_name": "LayoutView",
            "align_content": null,
            "align_items": null,
            "align_self": null,
            "border": null,
            "bottom": null,
            "display": null,
            "flex": null,
            "flex_flow": null,
            "grid_area": null,
            "grid_auto_columns": null,
            "grid_auto_flow": null,
            "grid_auto_rows": null,
            "grid_column": null,
            "grid_gap": null,
            "grid_row": null,
            "grid_template_areas": null,
            "grid_template_columns": null,
            "grid_template_rows": null,
            "height": null,
            "justify_content": null,
            "justify_items": null,
            "left": null,
            "margin": null,
            "max_height": null,
            "max_width": null,
            "min_height": null,
            "min_width": null,
            "object_fit": null,
            "object_position": null,
            "order": null,
            "overflow": null,
            "overflow_x": null,
            "overflow_y": null,
            "padding": null,
            "right": null,
            "top": null,
            "visibility": null,
            "width": null
          }
        },
        "6a7157de6b644575bcd1a5f63dfa3f19": {
          "model_module": "@jupyter-widgets/base",
          "model_name": "LayoutModel",
          "model_module_version": "1.2.0",
          "state": {
            "_model_module": "@jupyter-widgets/base",
            "_model_module_version": "1.2.0",
            "_model_name": "LayoutModel",
            "_view_count": null,
            "_view_module": "@jupyter-widgets/base",
            "_view_module_version": "1.2.0",
            "_view_name": "LayoutView",
            "align_content": null,
            "align_items": null,
            "align_self": null,
            "border": null,
            "bottom": null,
            "display": null,
            "flex": null,
            "flex_flow": null,
            "grid_area": null,
            "grid_auto_columns": null,
            "grid_auto_flow": null,
            "grid_auto_rows": null,
            "grid_column": null,
            "grid_gap": null,
            "grid_row": null,
            "grid_template_areas": null,
            "grid_template_columns": null,
            "grid_template_rows": null,
            "height": null,
            "justify_content": null,
            "justify_items": null,
            "left": null,
            "margin": null,
            "max_height": null,
            "max_width": null,
            "min_height": null,
            "min_width": null,
            "object_fit": null,
            "object_position": null,
            "order": null,
            "overflow": null,
            "overflow_x": null,
            "overflow_y": null,
            "padding": null,
            "right": null,
            "top": null,
            "visibility": null,
            "width": null
          }
        },
        "6c052836272947e88216481316e4939c": {
          "model_module": "@jupyter-widgets/controls",
          "model_name": "SliderStyleModel",
          "model_module_version": "1.5.0",
          "state": {
            "_model_module": "@jupyter-widgets/controls",
            "_model_module_version": "1.5.0",
            "_model_name": "SliderStyleModel",
            "_view_count": null,
            "_view_module": "@jupyter-widgets/base",
            "_view_module_version": "1.2.0",
            "_view_name": "StyleView",
            "description_width": "",
            "handle_color": null
          }
        },
        "d5f9e9fc24304100b5469905827fdd61": {
          "model_module": "@jupyter-widgets/base",
          "model_name": "LayoutModel",
          "model_module_version": "1.2.0",
          "state": {
            "_model_module": "@jupyter-widgets/base",
            "_model_module_version": "1.2.0",
            "_model_name": "LayoutModel",
            "_view_count": null,
            "_view_module": "@jupyter-widgets/base",
            "_view_module_version": "1.2.0",
            "_view_name": "LayoutView",
            "align_content": null,
            "align_items": null,
            "align_self": null,
            "border": null,
            "bottom": null,
            "display": null,
            "flex": null,
            "flex_flow": null,
            "grid_area": null,
            "grid_auto_columns": null,
            "grid_auto_flow": null,
            "grid_auto_rows": null,
            "grid_column": null,
            "grid_gap": null,
            "grid_row": null,
            "grid_template_areas": null,
            "grid_template_columns": null,
            "grid_template_rows": null,
            "height": null,
            "justify_content": null,
            "justify_items": null,
            "left": null,
            "margin": null,
            "max_height": null,
            "max_width": null,
            "min_height": null,
            "min_width": null,
            "object_fit": null,
            "object_position": null,
            "order": null,
            "overflow": null,
            "overflow_x": null,
            "overflow_y": null,
            "padding": null,
            "right": null,
            "top": null,
            "visibility": null,
            "width": null
          }
        }
      }
    }
  },
  "nbformat": 4,
  "nbformat_minor": 0
}